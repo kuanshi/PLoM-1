{
 "cells": [
  {
   "cell_type": "markdown",
   "id": "6bc5914d",
   "metadata": {},
   "source": [
    "## Probabilistic Learning on Manifolds (Simple example in 20 dimensions)\n",
    "\n",
    "In this example, raw invented data is used as sample input. This is just a user guide to see how the package and algorithm work and see their possible applications.\n",
    "\n",
    "The input sample included 300 data points and each features a unique vector of some independent variables and some other linearly related variables. The goal is to use PLoM learn the data structure and generate more samples whose key statistics (i.e., mean and covariance) are consistent with the input sample."
   ]
  },
  {
   "cell_type": "markdown",
   "id": "fd7e2148",
   "metadata": {},
   "source": [
    "### Import python modules"
   ]
  },
  {
   "cell_type": "code",
   "execution_count": 1,
   "id": "5f9b5c3c",
   "metadata": {},
   "outputs": [],
   "source": [
    "import numpy as np\n",
    "import random\n",
    "import time\n",
    "from math import pi\n",
    "import pandas as pd\n",
    "from ctypes import *\n",
    "%matplotlib notebook\n",
    "import matplotlib.pyplot as plt\n",
    "import sys"
   ]
  },
  {
   "cell_type": "markdown",
   "id": "0121241e",
   "metadata": {},
   "source": [
    "### Import PLoM modules"
   ]
  },
  {
   "cell_type": "code",
   "execution_count": 2,
   "id": "342345be",
   "metadata": {},
   "outputs": [
    {
     "ename": "NameError",
     "evalue": "name 'runDiffMaps' is not defined",
     "output_type": "error",
     "traceback": [
      "\u001b[0;31m---------------------------------------------------------------------------\u001b[0m",
      "\u001b[0;31mNameError\u001b[0m                                 Traceback (most recent call last)",
      "\u001b[0;32m/tmp/ipykernel_6883/2859968936.py\u001b[0m in \u001b[0;36m<module>\u001b[0;34m\u001b[0m\n\u001b[1;32m      1\u001b[0m \u001b[0msys\u001b[0m\u001b[0;34m.\u001b[0m\u001b[0mpath\u001b[0m\u001b[0;34m.\u001b[0m\u001b[0minsert\u001b[0m\u001b[0;34m(\u001b[0m\u001b[0;36m1\u001b[0m\u001b[0;34m,\u001b[0m \u001b[0;34m'../../'\u001b[0m\u001b[0;34m)\u001b[0m\u001b[0;34m\u001b[0m\u001b[0;34m\u001b[0m\u001b[0m\n\u001b[0;32m----> 2\u001b[0;31m \u001b[0;32mfrom\u001b[0m \u001b[0mPLoM\u001b[0m \u001b[0;32mimport\u001b[0m \u001b[0;34m*\u001b[0m\u001b[0;34m\u001b[0m\u001b[0;34m\u001b[0m\u001b[0m\n\u001b[0m",
      "\u001b[0;32m~/Documents/PLoM/example/example0_constraints/../../PLoM.py\u001b[0m in \u001b[0;36m<module>\u001b[0;34m\u001b[0m\n\u001b[1;32m     16\u001b[0m \u001b[0;32mfrom\u001b[0m \u001b[0mgeneral\u001b[0m \u001b[0;32mimport\u001b[0m \u001b[0;34m*\u001b[0m\u001b[0;34m\u001b[0m\u001b[0;34m\u001b[0m\u001b[0m\n\u001b[1;32m     17\u001b[0m \u001b[0;34m\u001b[0m\u001b[0m\n\u001b[0;32m---> 18\u001b[0;31m \u001b[0;32mclass\u001b[0m \u001b[0mPLoM\u001b[0m\u001b[0;34m:\u001b[0m\u001b[0;34m\u001b[0m\u001b[0;34m\u001b[0m\u001b[0m\n\u001b[0m\u001b[1;32m     19\u001b[0m     \u001b[0;32mdef\u001b[0m \u001b[0m__init__\u001b[0m\u001b[0;34m(\u001b[0m\u001b[0mself\u001b[0m\u001b[0;34m,\u001b[0m \u001b[0mmodel_name\u001b[0m\u001b[0;34m=\u001b[0m\u001b[0;34m'plom'\u001b[0m\u001b[0;34m,\u001b[0m \u001b[0mdata\u001b[0m\u001b[0;34m=\u001b[0m\u001b[0;34m''\u001b[0m\u001b[0;34m,\u001b[0m \u001b[0mseparator\u001b[0m\u001b[0;34m=\u001b[0m\u001b[0;34m','\u001b[0m\u001b[0;34m,\u001b[0m \u001b[0mcol_header\u001b[0m\u001b[0;34m=\u001b[0m\u001b[0;32mFalse\u001b[0m\u001b[0;34m,\u001b[0m \u001b[0mconstraints\u001b[0m \u001b[0;34m=\u001b[0m \u001b[0;32mNone\u001b[0m\u001b[0;34m,\u001b[0m \u001b[0mrun_tag\u001b[0m \u001b[0;34m=\u001b[0m \u001b[0;32mFalse\u001b[0m\u001b[0;34m,\u001b[0m \u001b[0mplot_tag\u001b[0m \u001b[0;34m=\u001b[0m \u001b[0;32mFalse\u001b[0m\u001b[0;34m,\u001b[0m \u001b[0mnum_rlz\u001b[0m \u001b[0;34m=\u001b[0m \u001b[0;36m5\u001b[0m\u001b[0;34m,\u001b[0m \u001b[0mtol_pca\u001b[0m \u001b[0;34m=\u001b[0m \u001b[0;36m1e-6\u001b[0m\u001b[0;34m,\u001b[0m \u001b[0mepsilon_kde\u001b[0m \u001b[0;34m=\u001b[0m \u001b[0;36m25\u001b[0m\u001b[0;34m,\u001b[0m \u001b[0mtol_PCA2\u001b[0m \u001b[0;34m=\u001b[0m \u001b[0;36m1e-5\u001b[0m\u001b[0;34m,\u001b[0m \u001b[0mtol\u001b[0m \u001b[0;34m=\u001b[0m \u001b[0;36m1e-6\u001b[0m\u001b[0;34m,\u001b[0m \u001b[0mmax_iter\u001b[0m \u001b[0;34m=\u001b[0m \u001b[0;36m50\u001b[0m\u001b[0;34m,\u001b[0m \u001b[0mrunDiffMaps\u001b[0m \u001b[0;34m=\u001b[0m \u001b[0;32mTrue\u001b[0m\u001b[0;34m)\u001b[0m\u001b[0;34m:\u001b[0m\u001b[0;34m\u001b[0m\u001b[0;34m\u001b[0m\u001b[0m\n\u001b[1;32m     20\u001b[0m         \u001b[0;31m# basic setups\u001b[0m\u001b[0;34m\u001b[0m\u001b[0;34m\u001b[0m\u001b[0;34m\u001b[0m\u001b[0m\n",
      "\u001b[0;32m~/Documents/PLoM/example/example0_constraints/../../PLoM.py\u001b[0m in \u001b[0;36mPLoM\u001b[0;34m()\u001b[0m\n\u001b[1;32m    427\u001b[0m \u001b[0;34m\u001b[0m\u001b[0m\n\u001b[1;32m    428\u001b[0m \u001b[0;34m\u001b[0m\u001b[0m\n\u001b[0;32m--> 429\u001b[0;31m     \u001b[0;32mdef\u001b[0m \u001b[0mRunAlgorithm\u001b[0m\u001b[0;34m(\u001b[0m\u001b[0mself\u001b[0m\u001b[0;34m,\u001b[0m \u001b[0mn_mc\u001b[0m \u001b[0;34m=\u001b[0m \u001b[0;36m5\u001b[0m\u001b[0;34m,\u001b[0m \u001b[0mepsilon_pca\u001b[0m \u001b[0;34m=\u001b[0m \u001b[0;36m1e-6\u001b[0m\u001b[0;34m,\u001b[0m \u001b[0mepsilon_kde\u001b[0m \u001b[0;34m=\u001b[0m \u001b[0;36m25\u001b[0m\u001b[0;34m,\u001b[0m \u001b[0mtol_PCA2\u001b[0m \u001b[0;34m=\u001b[0m \u001b[0;36m1e-5\u001b[0m\u001b[0;34m,\u001b[0m \u001b[0mtol\u001b[0m \u001b[0;34m=\u001b[0m \u001b[0;36m1e-6\u001b[0m\u001b[0;34m,\u001b[0m \u001b[0mmax_iter\u001b[0m \u001b[0;34m=\u001b[0m \u001b[0;36m50\u001b[0m\u001b[0;34m,\u001b[0m \u001b[0mplot_tag\u001b[0m \u001b[0;34m=\u001b[0m \u001b[0;32mFalse\u001b[0m\u001b[0;34m,\u001b[0m \u001b[0mrunDiffMaps\u001b[0m \u001b[0;34m=\u001b[0m \u001b[0mrunDiffMaps\u001b[0m\u001b[0;34m,\u001b[0m \u001b[0mseed_num\u001b[0m\u001b[0;34m=\u001b[0m\u001b[0;32mNone\u001b[0m\u001b[0;34m)\u001b[0m\u001b[0;34m:\u001b[0m\u001b[0;34m\u001b[0m\u001b[0;34m\u001b[0m\u001b[0m\n\u001b[0m\u001b[1;32m    430\u001b[0m         \"\"\"\n\u001b[1;32m    431\u001b[0m         \u001b[0mRunning\u001b[0m \u001b[0mthe\u001b[0m \u001b[0mPLoM\u001b[0m \u001b[0malgorithm\u001b[0m \u001b[0mto\u001b[0m \u001b[0mtrain\u001b[0m \u001b[0mthe\u001b[0m \u001b[0mmodel\u001b[0m \u001b[0;32mand\u001b[0m \u001b[0mgenerate\u001b[0m \u001b[0mnew\u001b[0m \u001b[0mrealizations\u001b[0m\u001b[0;34m\u001b[0m\u001b[0;34m\u001b[0m\u001b[0m\n",
      "\u001b[0;31mNameError\u001b[0m: name 'runDiffMaps' is not defined"
     ]
    }
   ],
   "source": [
    "sys.path.insert(1, '../../')\n",
    "from PLoM import *"
   ]
  },
  {
   "cell_type": "markdown",
   "id": "2fbbb895",
   "metadata": {},
   "source": [
    "### Load Data\n",
    "Data are loaded via a comma-separate value (csv) file. The first row contains column names for all the variables. The following rows are input sample data. Users are expected to specif the csv filename."
   ]
  },
  {
   "cell_type": "code",
   "execution_count": null,
   "id": "1c8c43dc",
   "metadata": {
    "scrolled": false
   },
   "outputs": [],
   "source": [
    "# Filename\n",
    "filename = './data/data_example2D.csv'\n",
    "model = PLoM(model_name='Example0_constraints', data=filename, col_header=True, plot_tag=True, runDiffMaps = False)\n",
    "model.add_constraints('./data/constraints_example2D.py')"
   ]
  },
  {
   "cell_type": "markdown",
   "id": "123d0e7b",
   "metadata": {},
   "source": [
    "### Configuring tasks\n",
    "Please specify tasks to run - the list of tasks can be run in sqeunce or invidivdual tasks can be run separately."
   ]
  },
  {
   "cell_type": "code",
   "execution_count": null,
   "id": "0da58ead",
   "metadata": {},
   "outputs": [],
   "source": [
    "tasks = ['DataNormalization','RunPCA','RunKDE','ISDEGeneration']"
   ]
  },
  {
   "cell_type": "markdown",
   "id": "efba9610",
   "metadata": {},
   "source": [
    "### Step 0: Scaling the data"
   ]
  },
  {
   "cell_type": "code",
   "execution_count": null,
   "id": "dbeb9fff",
   "metadata": {},
   "outputs": [],
   "source": [
    "# Configure the task\n",
    "model.ConfigTasks(['DataNormalization'])\n",
    "# Launch the run\n",
    "model.RunAlgorithm()"
   ]
  },
  {
   "cell_type": "markdown",
   "id": "a6d46a0a",
   "metadata": {},
   "source": [
    "### Step 1: Principal Component Analysis (PCA)"
   ]
  },
  {
   "cell_type": "code",
   "execution_count": null,
   "id": "4af63afb",
   "metadata": {
    "scrolled": false
   },
   "outputs": [],
   "source": [
    "# Tolerance for truncating principal components\n",
    "tol_pca = 1e-12\n",
    "# Configure the task\n",
    "model.ConfigTasks(['RunPCA'])\n",
    "# Launch the run\n",
    "model.RunAlgorithm(epsilon_pca=tol_pca)"
   ]
  },
  {
   "cell_type": "markdown",
   "id": "d823e874",
   "metadata": {},
   "source": [
    "### Step 2: Kernel Density Estimation (KDE)\n",
    "\n",
    "In this step there is an optional argument for the RunAlgorithm process that involves the diffusion maps basis. This step can both be run or not, anddepending on the requirements it can be neglected. It can be noted that the default value of *runDiffMaps* is *True*."
   ]
  },
  {
   "cell_type": "code",
   "execution_count": null,
   "id": "c6dce6f3",
   "metadata": {},
   "outputs": [],
   "source": [
    "# Smoothing parameter in the KDE\n",
    "sp = 25\n",
    "# Configure the task\n",
    "model.ConfigTasks(['RunKDE'])\n",
    "\n",
    "# Launch the run\n",
    "model.RunAlgorithm(epsilon_kde=sp)"
   ]
  },
  {
   "cell_type": "markdown",
   "id": "1a9d5cba",
   "metadata": {},
   "source": [
    "### Step 3: Create the generator"
   ]
  },
  {
   "cell_type": "code",
   "execution_count": null,
   "id": "e59d764e",
   "metadata": {
    "scrolled": true
   },
   "outputs": [],
   "source": [
    "# Extra parameters for ISDE generation\n",
    "new_sample_num_ratio = 10\n",
    "tol_PCA2 = 1e-5\n",
    "# Configure the task\n",
    "model.ConfigTasks(['ISDEGeneration'])\n",
    "# Launch the run\n",
    "model.RunAlgorithm(n_mc = new_sample_num_ratio, tol_PCA2 = tol_PCA2, max_iter = 1)"
   ]
  },
  {
   "cell_type": "markdown",
   "id": "82c47838",
   "metadata": {},
   "source": [
    "### Step 4: Exporting data"
   ]
  },
  {
   "cell_type": "code",
   "execution_count": null,
   "id": "acf6dc14",
   "metadata": {},
   "outputs": [],
   "source": [
    "# Available data list\n",
    "model.export_results()"
   ]
  },
  {
   "cell_type": "code",
   "execution_count": null,
   "id": "ae165a80",
   "metadata": {},
   "outputs": [],
   "source": [
    "# Pick up the original and new realizations, X0 and X_new\n",
    "model.export_results(data_list=['/X0','/X_new'], file_format_list=['csv','csv'])"
   ]
  },
  {
   "cell_type": "markdown",
   "id": "db68b66a",
   "metadata": {},
   "source": [
    "### Post-processing\n",
    "We would like to check the basic statistics of the input sample (i.e., MSA) and the generated new realizations by PLoM. The key metrics include the median, standard deviation, and correlation coefficient matrix of different structural responses."
   ]
  },
  {
   "cell_type": "code",
   "execution_count": null,
   "id": "ab1cd0ed",
   "metadata": {},
   "outputs": [],
   "source": [
    "# Load results\n",
    "\n",
    "#write realtive paths\n",
    "\n",
    "df_initial = pd.read_csv('../../RunDir/Example0_constraints/DataOut/X0.csv')\n",
    "df_plom = pd.read_csv('../../RunDir/Example0_constraints/DataOut/X_new.csv')\n",
    "print(df_initial.head)\n",
    "print(df_plom.head)"
   ]
  },
  {
   "cell_type": "code",
   "execution_count": null,
   "id": "2ad19ff1",
   "metadata": {},
   "outputs": [],
   "source": [
    "#plot of the first two variables\n",
    "import matplotlib.patches as mpatches\n",
    "plt.figure()\n",
    "plt.plot(df_plom.iloc[:,1].to_numpy(), df_plom.iloc[:,2].to_numpy(), 'rx')\n",
    "plt.plot(df_initial.iloc[:,1].to_numpy(), df_initial.iloc[:,2].to_numpy(), 'bo')\n",
    "plt.xlabel('x')\n",
    "plt.ylabel('y')\n",
    "red_patch = mpatches.Patch(color='red', label='new X')\n",
    "blue_patch = mpatches.Patch(color='blue', label='X')\n",
    "plt.legend(handles=[red_patch, blue_patch])\n",
    "plt.show()"
   ]
  },
  {
   "cell_type": "code",
   "execution_count": null,
   "id": "1927f9a9",
   "metadata": {},
   "outputs": [],
   "source": [
    "import matplotlib.patches as mpatches\n",
    "plt.figure()\n",
    "plt.plot(model.errors)\n",
    "plt.xlabel('# iteration')\n",
    "plt.ylabel('error')\n",
    "plt.show()"
   ]
  },
  {
   "cell_type": "code",
   "execution_count": null,
   "id": "a6fbecb4",
   "metadata": {},
   "outputs": [],
   "source": [
    "model.errors"
   ]
  },
  {
   "cell_type": "code",
   "execution_count": null,
   "id": "1e2ea5a6",
   "metadata": {},
   "outputs": [],
   "source": []
  }
 ],
 "metadata": {
  "kernelspec": {
   "display_name": "Python 3 (ipykernel)",
   "language": "python",
   "name": "python3"
  },
  "language_info": {
   "codemirror_mode": {
    "name": "ipython",
    "version": 3
   },
   "file_extension": ".py",
   "mimetype": "text/x-python",
   "name": "python",
   "nbconvert_exporter": "python",
   "pygments_lexer": "ipython3",
   "version": "3.8.10"
  }
 },
 "nbformat": 4,
 "nbformat_minor": 5
}
