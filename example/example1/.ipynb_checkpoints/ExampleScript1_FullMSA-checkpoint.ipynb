{
 "cells": [
  {
   "cell_type": "markdown",
   "id": "6bc5914d",
   "metadata": {},
   "source": [
    "## Probabilistic Learning on Manifolds (MSA of a 12-story RC frame)"
   ]
  },
  {
   "cell_type": "markdown",
   "id": "fd7e2148",
   "metadata": {},
   "source": [
    "### Import python modules"
   ]
  },
  {
   "cell_type": "code",
   "execution_count": 8,
   "id": "5f9b5c3c",
   "metadata": {},
   "outputs": [
    {
     "name": "stdout",
     "output_type": "stream",
     "text": [
      "/mnt/c/Users/kuans/Program/SimCenter/PLoM/example/example1\n"
     ]
    }
   ],
   "source": [
    "import numpy as np\n",
    "import random\n",
    "import time\n",
    "from math import pi\n",
    "import pandas as pd\n",
    "from ctypes import *\n",
    "%matplotlib notebook\n",
    "import matplotlib.pyplot as plt\n",
    "import sys"
   ]
  },
  {
   "cell_type": "markdown",
   "id": "0121241e",
   "metadata": {},
   "source": [
    "### Import PLoM modules"
   ]
  },
  {
   "cell_type": "code",
   "execution_count": 12,
   "id": "342345be",
   "metadata": {},
   "outputs": [],
   "source": [
    "sys.path.insert(1, '../../src')\n",
    "import PLoM_library_ubuntu as plom"
   ]
  },
  {
   "cell_type": "code",
   "execution_count": null,
   "id": "e42d5d7d",
   "metadata": {},
   "outputs": [],
   "source": [
    "t_start = time.time()"
   ]
  },
  {
   "cell_type": "markdown",
   "id": "2fbbb895",
   "metadata": {},
   "source": [
    "### Load Multi-Stripe Analysis (MSA) Data\n",
    "MSA data are loaded via a comma-separate value (csv) file. The first row contains column names for both predictors (X) and responses (y). The following rows are input sample data. Users are expected to specif the csv filename."
   ]
  },
  {
   "cell_type": "code",
   "execution_count": null,
   "id": "1c8c43dc",
   "metadata": {
    "scrolled": false
   },
   "outputs": [],
   "source": [
    "# Filename\n",
    "filename = './data/response_rcf12_msa_la_nc.csv'\n",
    "df = pd.read_csv(filename, header=0, index_col=None)\n",
    "\n",
    "# Initialize x\n",
    "N = len(df.index)\n",
    "n = len(df.columns)\n",
    "x0 = np.zeros((n, N))\n",
    "x_name = []\n",
    "\n",
    "# Read data\n",
    "for i in range(n):\n",
    "    x0[i] = [np.log(x) for x in df.iloc[:, i].values.tolist()]\n",
    "    x_name.append(df.columns[i])\n",
    "    \n",
    "# Plot scatter matrix of the sample\n",
    "smp = pd.plotting.scatter_matrix(df, alpha=0.2, diagonal = \"kde\", figsize=(12, 12))\n",
    "for ax in smp.ravel():\n",
    "    ax.set_xlabel(ax.get_xlabel(), fontsize = 6, rotation = 45)\n",
    "    ax.set_ylabel(ax.get_ylabel(), fontsize = 6, rotation = 45)"
   ]
  },
  {
   "cell_type": "markdown",
   "id": "efba9610",
   "metadata": {},
   "source": [
    "### Step 0: Scaling the data"
   ]
  },
  {
   "cell_type": "code",
   "execution_count": null,
   "id": "dbeb9fff",
   "metadata": {},
   "outputs": [],
   "source": [
    "def g_c(x): #x can be a column vector or a matrix\n",
    "    f = np.zeros((2, x.shape[1]))\n",
    "    f[0,:] = x[0,:]\n",
    "    f[1,:] = x[0,:]**2\n",
    "    return f\n",
    "\n",
    "x, alpha, x_min = plom.scaling(x0)\n",
    "\n",
    "x_mean = plom.mean(x)\n",
    "\n",
    "N = x.shape[1] #initial number of points\n",
    "n = x.shape[0] #initial dimension"
   ]
  },
  {
   "cell_type": "markdown",
   "id": "a6d46a0a",
   "metadata": {},
   "source": [
    "### Step 1: Principal Component Analysis (PCA)"
   ]
  },
  {
   "cell_type": "code",
   "execution_count": null,
   "id": "4af63afb",
   "metadata": {
    "scrolled": false
   },
   "outputs": [],
   "source": [
    "epsilon = 1e-6 # tolerance for selecting the number of considered components\n",
    "(eta, mu, phi) = plom.PCA(x, epsilon)\n",
    "nu = len(eta)\n",
    "print('Considered number of components: ', nu)\n",
    "\n",
    "plom.covariance(eta)\n",
    "\n",
    "# Plot covariance matrix\n",
    "fig, ax = plt.subplots(figsize=(8,6))\n",
    "ctp = ax.contourf(plom.covariance(eta), cmap=plt.cm.bone, levels=100)\n",
    "ax.set_xticks(list(range(n)))\n",
    "ax.set_yticks(list(range(n)))\n",
    "ax.set_xticklabels(['PCA-'+str(x+1) for x in range(n)], fontsize=8, rotation=45)\n",
    "ax.set_yticklabels(['PCA-'+str(x+1) for x in range(n)], fontsize=8, rotation=45)\n",
    "ax.set_title('Covariance matrix of PCA')\n",
    "cbar = fig.colorbar(ctp)\n",
    "plt.show()"
   ]
  },
  {
   "cell_type": "markdown",
   "id": "094c13d2",
   "metadata": {},
   "source": [
    "### Step 2: Kernel Density Estimation (KDE)"
   ]
  },
  {
   "cell_type": "code",
   "execution_count": null,
   "id": "c6dce6f3",
   "metadata": {},
   "outputs": [],
   "source": [
    "(s_v, c_v, hat_s_v) = plom.parameters_kde(eta)\n",
    "\n",
    "epsilon = 25 #2.7318 #method to calculate epsilon\n",
    "\n",
    "K, b = plom.K(eta,epsilon)\n",
    "\n",
    "g, eigenvalues = plom.g(K,b) #diffusion maps\n",
    "g = g.real\n",
    "eigenvalues = eigenvalues.real\n",
    "m = plom.m(eigenvalues)\n",
    "print('m: ', m)\n",
    "a = g[:,0:m].dot(np.linalg.inv(np.transpose(g[:,0:m]).dot(g[:,0:m])))\n",
    "\n",
    "# Plot\n",
    "fig, ax = plt.subplots(figsize=(6,4))\n",
    "ax.semilogy(np.arange(len(eigenvalues)), eigenvalues)\n",
    "ax.set_xlabel('Eigen number')\n",
    "ax.set_ylabel('Eigen value')\n",
    "ax.set_title('Eigen value (KDE)')\n",
    "plt.show()"
   ]
  },
  {
   "cell_type": "markdown",
   "id": "1a9d5cba",
   "metadata": {},
   "source": [
    "### Step 3: Create the generator"
   ]
  },
  {
   "cell_type": "code",
   "execution_count": null,
   "id": "e59d764e",
   "metadata": {},
   "outputs": [],
   "source": [
    "eta_init = eta #use the sample as the initial vector\n",
    "nu_init = np.random.normal(size = (nu,N))\n",
    "\n",
    "\n",
    "z_init = eta_init.dot(a)\n",
    "y_init = nu_init.dot(a)\n",
    "\n",
    "n_mc = 20 #realization/sample size ratio\n",
    "\n",
    "# Create the generator\n",
    "eta_lambda, nu_lambda, x_, x_2 = plom.generator(z_init, y_init, a,\\\n",
    "                        n_mc, x_mean, eta, s_v, hat_s_v, mu, phi, g[:,0:m]) #solve the ISDE in n_mc iterations\n",
    "\n",
    "plt.figure()\n",
    "plt.subplot(2,2,1)\n",
    "plt.plot(x_[0,:])\n",
    "plt.ylabel('Mean',fontsize=16)\n",
    "\n",
    "plt.subplot(2,2,2)\n",
    "plt.plot(x_2[0,:])\n",
    "plt.ylabel('Mean of the squares',fontsize=16)\n",
    "\n",
    "plt.subplot(2,2,3)\n",
    "chi = plom.ac(x_[0,:(n_mc//2)])\n",
    "plt.plot(chi[:chi.size]/chi[0])\n",
    "plt.ylabel(r'$\\chi_x(t)$',fontsize=16)\n",
    "\n",
    "plt.subplot(2,2,4)\n",
    "chi = plom.ac(x_2[0,:(n_mc//2)])\n",
    "plt.plot(chi[:chi.size]/chi[0])\n",
    "plt.ylabel(r'$\\chi_x^{2}(t)$',fontsize=16)\n",
    "plt.show()\n",
    "plt.savefig('realization.png')\n",
    "\n"
   ]
  },
  {
   "cell_type": "markdown",
   "id": "82c47838",
   "metadata": {},
   "source": [
    "### Step 4: New realizations (MCMC)"
   ]
  },
  {
   "cell_type": "code",
   "execution_count": null,
   "id": "acf6dc14",
   "metadata": {},
   "outputs": [],
   "source": [
    "# Transform \\eta back to X\n",
    "x_c = x_mean + phi.dot(np.diag(mu)).dot(eta_lambda)\n",
    "\n",
    "# Unscale X\n",
    "x_c = np.diag(alpha).dot(x_c)+x_min\n",
    "x = np.diag(alpha).dot(x)+x_min\n",
    "\n",
    "\n",
    "plom.mean(x_c[:,:])\n",
    "x_c.shape\n",
    "\n",
    "# Save data\n",
    "np.savetxt('sample.csv', np.exp(x), delimiter=',')\n",
    "np.savetxt('simulation.csv', np.exp(x_c), delimiter=',')\n",
    "\n",
    "t_end = time.time()\n",
    "print(\"Time: \" + str(t_end - t_start) + ' sec.')"
   ]
  },
  {
   "cell_type": "markdown",
   "id": "db68b66a",
   "metadata": {},
   "source": [
    "### Post-processing\n",
    "We would like to check the basic statistics of the input sample (i.e., MSA) and the generated new realizations by PLoM. The key metrics include the median, standard deviation, and correlation coefficient matrix of different structural responses."
   ]
  },
  {
   "cell_type": "code",
   "execution_count": null,
   "id": "09a9780a",
   "metadata": {
    "scrolled": false
   },
   "outputs": [],
   "source": [
    "# Maximum story drift ratio in the building\n",
    "# Note: the SDR are in the rows # 4 ~ # 15\n",
    "sa_msa = np.exp(x0[0,:])\n",
    "sa_plom = np.exp(x_c[0,:])\n",
    "sdr_max_msa = np.max(np.exp(x0[3:15,:]), axis=0)\n",
    "sdr_max_plom = np.max(np.exp(x_c[3:15,:]), axis=0)\n",
    "\n",
    "iml = [0.1690, 0.2594, 0.3696, 0.5492, 0.7131, 0.9000]\n",
    "sdr_max_med_msa = [np.exp(np.mean(np.log(sdr_max_msa[x0[0,:]==np.log(iml_x)]))) for iml_x in iml]\n",
    "sdr_max_std_msa = [np.std(np.log(sdr_max_msa[x0[0,:]==np.log(iml_x)])) for iml_x in iml]\n",
    "\n",
    "iml2 = np.linspace(np.min(iml),np.max(iml),500)\n",
    "num_nb = 100\n",
    "sdr_max_med_plom = [np.exp(np.mean(np.log(sdr_max_plom[abs(x_c[0,:]-np.log(iml_x)).argsort()[0:num_nb]]))) for iml_x in iml2]\n",
    "sdr_max_std_plom = [np.std(np.log(sdr_max_plom[abs(x_c[0,:]-np.log(iml_x)).argsort()[0:num_nb]])) for iml_x in iml2]\n",
    "\n",
    "fig, ax = plt.subplots(figsize=(8,8))\n",
    "ax.plot(sdr_max_plom, sa_plom, 'bo', alpha=0.1, label='PLoM')\n",
    "ax.plot(sdr_max_msa, sa_msa, 'ks', label='MSA')\n",
    "ax.plot(sdr_max_med_msa, iml, 'k-', label='MSA median')\n",
    "ax.plot(sdr_max_med_plom, iml2, 'r-', label='PLoM moving median')\n",
    "ax.plot(sdr_max_med_msa*np.exp(sdr_max_std_msa), iml, 'k--', label='MSA $\\pm$1$\\sigma$')\n",
    "ax.plot(sdr_max_med_plom*np.exp(sdr_max_std_plom), iml2, 'r:', label='PLoM moving $\\pm$1$\\sigma$')\n",
    "ax.plot(sdr_max_med_msa/np.exp(sdr_max_std_msa), iml, 'k--')\n",
    "ax.plot(sdr_max_med_plom/np.exp(sdr_max_std_plom), iml2, 'r:')\n",
    "\n",
    "ax.set_xlabel('Max. SDR (in/in)')\n",
    "ax.set_ylabel('Sa (g)')\n",
    "ax.legend()\n",
    "ax.grid()\n",
    "plt.show()"
   ]
  },
  {
   "cell_type": "code",
   "execution_count": null,
   "id": "8f7f79b9",
   "metadata": {},
   "outputs": [],
   "source": [
    "# Peak story acceleration in the building\n",
    "# Note: the PFA are in the rows # 16 ~ # 27\n",
    "sa_msa = np.exp(x0[0,:])\n",
    "sa_plom = np.exp(x_c[0,:])\n",
    "pfa_max_msa = np.max(np.exp(x0[16:27,:]), axis=0)\n",
    "pfa_max_plom = np.max(np.exp(x_c[16:27,:]), axis=0)\n",
    "\n",
    "iml = [0.1690, 0.2594, 0.3696, 0.5492, 0.7131, 0.9000]\n",
    "pfa_max_med_msa = [np.exp(np.mean(np.log(pfa_max_msa[x0[0,:]==np.log(iml_x)]))) for iml_x in iml]\n",
    "pfa_max_std_msa = [np.std(np.log(pfa_max_msa[x0[0,:]==np.log(iml_x)])) for iml_x in iml]\n",
    "\n",
    "iml2 = np.linspace(np.min(iml),np.max(iml),500)\n",
    "num_nb = 100\n",
    "pfa_max_med_plom = [np.exp(np.mean(np.log(pfa_max_plom[abs(x_c[0,:]-np.log(iml_x)).argsort()[0:num_nb]]))) for iml_x in iml2]\n",
    "pfa_max_std_plom = [np.std(np.log(pfa_max_plom[abs(x_c[0,:]-np.log(iml_x)).argsort()[0:num_nb]])) for iml_x in iml2]\n",
    "\n",
    "fig, ax = plt.subplots(figsize=(8,8))\n",
    "ax.plot(pfa_max_plom, sa_plom, 'bo', alpha=0.1, label='PLoM')\n",
    "ax.plot(pfa_max_msa, sa_msa, 'ks', label='MSA')\n",
    "ax.plot(pfa_max_med_msa, iml, 'k-', label='MSA median')\n",
    "ax.plot(pfa_max_med_plom, iml2, 'r-', label='PLoM moving median')\n",
    "ax.plot(pfa_max_med_msa*np.exp(pfa_max_std_msa), iml, 'k--', label='MSA $\\pm$1$\\sigma$')\n",
    "ax.plot(pfa_max_med_plom*np.exp(pfa_max_std_plom), iml2, 'r:', label='PLoM moving $\\pm$1$\\sigma$')\n",
    "ax.plot(pfa_max_med_msa/np.exp(pfa_max_std_msa), iml, 'k--')\n",
    "ax.plot(pfa_max_med_plom/np.exp(pfa_max_std_plom), iml2, 'r:')\n",
    "\n",
    "ax.set_xlabel('Max. PFA (g)')\n",
    "ax.set_ylabel('Sa (g)')\n",
    "ax.legend()\n",
    "ax.grid()\n",
    "plt.show()"
   ]
  },
  {
   "cell_type": "code",
   "execution_count": null,
   "id": "56bb8fec",
   "metadata": {
    "scrolled": true
   },
   "outputs": [],
   "source": [
    "# Story-based responses (SDR)\n",
    "sa_msa = np.exp(x0[0,:])\n",
    "sa_plom = np.exp(x_c[0,:])\n",
    "iml = [0.1690, 0.2594, 0.3696, 0.5492, 0.7131, 0.9000]\n",
    "for i in range(12):\n",
    "    sdr_cur_msa = np.exp(x0[i+3,:])\n",
    "    sdr_cur_plom = np.exp(x_c[i+3,:])\n",
    "    sdr_cur_med_msa = [np.exp(np.mean(np.log(sdr_cur_msa[x0[0,:]==np.log(iml_x)]))) for iml_x in iml]\n",
    "    sdr_cur_std_msa = [np.std(np.log(sdr_cur_msa[x0[0,:]==np.log(iml_x)])) for iml_x in iml]\n",
    "\n",
    "    iml2 = iml\n",
    "    num_nb = 100\n",
    "    sdr_cur_med_plom = [np.exp(np.mean(np.log(sdr_cur_plom[abs(x_c[0,:]-np.log(iml_x)).argsort()[0:num_nb]]))) for iml_x in iml2]\n",
    "    sdr_cur_std_plom = [np.std(np.log(sdr_cur_plom[abs(x_c[0,:]-np.log(iml_x)).argsort()[0:num_nb]])) for iml_x in iml2]\n",
    "    \n",
    "    plt.figure(figsize=(16,4))\n",
    "    for j in range(6):\n",
    "        plt.subplot(1,6,j+1)\n",
    "        ax = plt.gca()\n",
    "        pd.Series(sdr_cur_plom).plot.kde(color='b', bw_method=0.5)\n",
    "        pd.Series(sdr_cur_msa).plot.kde(color='k', bw_method=0.5)\n",
    "        ax.plot([sdr_cur_med_msa[j], sdr_cur_med_msa[j]], [0, 100], 'k-')\n",
    "        ax.plot([sdr_cur_med_msa[j]*np.exp(sdr_cur_std_msa[j]), sdr_cur_med_msa[j]*np.exp(sdr_cur_std_msa[j])], [0, 100], 'k--')\n",
    "        ax.plot([sdr_cur_med_msa[j]/np.exp(sdr_cur_std_msa[j]), sdr_cur_med_msa[j]/np.exp(sdr_cur_std_msa[j])], [0, 100], 'k--')\n",
    "        ax.plot([sdr_cur_med_plom[j], sdr_cur_med_plom[j]], [0, 100], 'b-')\n",
    "        ax.plot([sdr_cur_med_plom[j]*np.exp(sdr_cur_std_plom[j]), sdr_cur_med_plom[j]*np.exp(sdr_cur_std_plom[j])], [0, 100], 'b--')\n",
    "        ax.plot([sdr_cur_med_plom[j]/np.exp(sdr_cur_std_plom[j]), sdr_cur_med_plom[j]/np.exp(sdr_cur_std_plom[j])], [0, 100], 'b--')\n",
    "        ax.set_xlim(0.0, 0.05)\n",
    "        ax.set_ylim(0.0, 200)\n",
    "        ax.grid()\n",
    "        ax.set_xlabel('SDR (in/in)')\n",
    "        if j > 0:\n",
    "            ax.set_yticklabels('')\n",
    "            ax.set_ylabel('')\n",
    "        if j == 2:\n",
    "            ax.set_title('Max. SDR (in/in) of Story #'+str(i+1))"
   ]
  },
  {
   "cell_type": "code",
   "execution_count": null,
   "id": "ece047e8",
   "metadata": {
    "scrolled": false
   },
   "outputs": [],
   "source": [
    "# Story-based responses (PFA)\n",
    "sa_msa = np.exp(x0[0,:])\n",
    "sa_plom = np.exp(x_c[0,:])\n",
    "iml = [0.1690, 0.2594, 0.3696, 0.5492, 0.7131, 0.9000]\n",
    "for i in range(12):\n",
    "    pfa_cur_msa = np.exp(x0[i+15,:])\n",
    "    pfa_cur_plom = np.exp(x_c[i+15,:])\n",
    "    pfa_cur_med_msa = [np.exp(np.mean(np.log(pfa_cur_msa[x0[0,:]==np.log(iml_x)]))) for iml_x in iml]\n",
    "    pfa_cur_std_msa = [np.std(np.log(pfa_cur_msa[x0[0,:]==np.log(iml_x)])) for iml_x in iml]\n",
    "\n",
    "    iml2 = iml\n",
    "    num_nb = 100\n",
    "    pfa_cur_med_plom = [np.exp(np.mean(np.log(pfa_cur_plom[abs(x_c[0,:]-np.log(iml_x)).argsort()[0:num_nb]]))) for iml_x in iml2]\n",
    "    pfa_cur_std_plom = [np.std(np.log(pfa_cur_plom[abs(x_c[0,:]-np.log(iml_x)).argsort()[0:num_nb]])) for iml_x in iml2]\n",
    "    \n",
    "    plt.figure(figsize=(16,4))\n",
    "    for j in range(6):\n",
    "        plt.subplot(1,6,j+1)\n",
    "        ax = plt.gca()\n",
    "        pd.Series(pfa_cur_plom).plot.kde(color='b', bw_method=0.5)\n",
    "        pd.Series(pfa_cur_msa).plot.kde(color='k', bw_method=0.5)\n",
    "        ax.plot([pfa_cur_med_msa[j], pfa_cur_med_msa[j]], [0, 100], 'k-')\n",
    "        ax.plot([pfa_cur_med_msa[j]*np.exp(pfa_cur_std_msa[j]), pfa_cur_med_msa[j]*np.exp(pfa_cur_std_msa[j])], [0, 100], 'k--')\n",
    "        ax.plot([pfa_cur_med_msa[j]/np.exp(pfa_cur_std_msa[j]), pfa_cur_med_msa[j]/np.exp(pfa_cur_std_msa[j])], [0, 100], 'k--')\n",
    "        ax.plot([pfa_cur_med_plom[j], pfa_cur_med_plom[j]], [0, 100], 'b-')\n",
    "        ax.plot([pfa_cur_med_plom[j]*np.exp(pfa_cur_std_plom[j]), pfa_cur_med_plom[j]*np.exp(pfa_cur_std_plom[j])], [0, 100], 'b--')\n",
    "        ax.plot([pfa_cur_med_plom[j]/np.exp(pfa_cur_std_plom[j]), pfa_cur_med_plom[j]/np.exp(pfa_cur_std_plom[j])], [0, 100], 'b--')\n",
    "        ax.set_xlim(0.0, 1)\n",
    "        ax.set_ylim(0.0, 10)\n",
    "        ax.grid()\n",
    "        ax.set_xlabel('PFA (g)')\n",
    "        if j > 0:\n",
    "            ax.set_yticklabels('')\n",
    "            ax.set_ylabel('')\n",
    "        if j == 2:\n",
    "            ax.set_title('PFA (g) of Story #'+str(i+1))"
   ]
  },
  {
   "cell_type": "code",
   "execution_count": null,
   "id": "e8561f52",
   "metadata": {
    "scrolled": false
   },
   "outputs": [],
   "source": [
    "# Correlation coefficient matrix\n",
    "c_msa = np.corrcoef(x0)\n",
    "c_plom = np.corrcoef(x_c)\n",
    "c_combine = c_msa\n",
    "tmp = np.triu(c_plom).flatten()\n",
    "tmp = tmp[tmp != 0]\n",
    "c_combine[np.triu_indices(27)] = tmp\n",
    "\n",
    "# Plot covariance matrix\n",
    "fig, ax = plt.subplots(figsize=(8,6))\n",
    "ctp = ax.contourf(c_combine, cmap=plt.cm.bone, levels=1000)\n",
    "ax.plot([0, 26], [0, 26], 'k--')\n",
    "ax.set_xticks(list(range(n)))\n",
    "ax.set_yticks(list(range(n)))\n",
    "ax.set_xticklabels(x_name, fontsize=8, rotation=45)\n",
    "ax.set_yticklabels(x_name, fontsize=8, rotation=45)\n",
    "ax.set_title('Covariance matrix comparison')\n",
    "cbar = fig.colorbar(ctp)\n",
    "plt.show()"
   ]
  },
  {
   "cell_type": "code",
   "execution_count": null,
   "id": "9f42a58b",
   "metadata": {},
   "outputs": [],
   "source": []
  }
 ],
 "metadata": {
  "kernelspec": {
   "display_name": "Python 3",
   "language": "python",
   "name": "python3"
  },
  "language_info": {
   "codemirror_mode": {
    "name": "ipython",
    "version": 3
   },
   "file_extension": ".py",
   "mimetype": "text/x-python",
   "name": "python",
   "nbconvert_exporter": "python",
   "pygments_lexer": "ipython3",
   "version": "3.8.5"
  }
 },
 "nbformat": 4,
 "nbformat_minor": 5
}
